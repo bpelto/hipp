{
 "cells": [
  {
   "cell_type": "code",
   "execution_count": 4,
   "metadata": {},
   "outputs": [
    {
     "name": "stdout",
     "output_type": "stream",
     "text": [
      "The autoreload extension is already loaded. To reload it, use:\n",
      "  %reload_ext autoreload\n"
     ]
    }
   ],
   "source": [
    "%load_ext autoreload\n",
    "%autoreload 2\n"
   ]
  },
  {
   "cell_type": "code",
   "execution_count": 5,
   "metadata": {},
   "outputs": [],
   "source": [
    "import hipp"
   ]
  },
  {
   "cell_type": "code",
   "execution_count": 8,
   "metadata": {},
   "outputs": [],
   "source": [
    "import os\n",
    "import sys\n",
    "import pandas as pd\n",
    "import json\n",
    "import requests\n",
    "import matplotlib.pyplot as plt\n",
    "from getpass import getpass"
   ]
  },
  {
   "cell_type": "markdown",
   "metadata": {},
   "source": [
    "## Login"
   ]
  },
  {
   "cell_type": "markdown",
   "metadata": {},
   "source": [
    "https://m2m.cr.usgs.gov/api/docs/example/download_data-py"
   ]
  },
  {
   "cell_type": "code",
   "execution_count": 9,
   "metadata": {},
   "outputs": [],
   "source": [
    "apiKey = hipp.dataquery.EE_login(input(), getpass())"
   ]
  },
  {
   "cell_type": "markdown",
   "metadata": {},
   "source": [
    "## Inputs"
   ]
  },
  {
   "cell_type": "code",
   "execution_count": 10,
   "metadata": {},
   "outputs": [],
   "source": [
    "ymax = 49.2\n",
    "ymin = 48.2\n",
    "xmin = -114.5\n",
    "xmax = -113.0\n",
    "\n",
    "startDate = '1966-01-01'\n",
    "endDate   = '1966-12-10'\n",
    "\n",
    "label     = 'test_download'\n",
    "output_directory = 'input_data'\n",
    "\n",
    "maxResults   = 10 "
   ]
  },
  {
   "cell_type": "markdown",
   "metadata": {},
   "source": [
    "## Data query"
   ]
  },
  {
   "cell_type": "code",
   "execution_count": 12,
   "metadata": {},
   "outputs": [
    {
     "name": "stdout",
     "output_type": "stream",
     "text": [
      "Max records requested: 10\n",
      "\n",
      "Bounds:\n",
      "xmin -114.5 \n",
      "ymin 48.2 \n",
      "xmax -113.0 \n",
      "ymax 49.2\n",
      "\n",
      "Time range: 1966-01-01 to 1966-12-10\n",
      "\n",
      "Records returned: 10\n",
      "\n",
      "maxResults set to: 10 \n",
      "Increase this parameter to obtain additional records. API max 50,000.\n"
     ]
    }
   ],
   "source": [
    "df = hipp.dataquery.EE_pre_select_images(apiKey,\n",
    "                                       xmin,ymin,xmax,ymax,\n",
    "                                       startDate,endDate,\n",
    "                                       maxResults   = maxResults)"
   ]
  },
  {
   "cell_type": "code",
   "execution_count": 13,
   "metadata": {},
   "outputs": [
    {
     "data": {
      "text/html": [
       "<div>\n",
       "<style scoped>\n",
       "    .dataframe tbody tr th:only-of-type {\n",
       "        vertical-align: middle;\n",
       "    }\n",
       "\n",
       "    .dataframe tbody tr th {\n",
       "        vertical-align: top;\n",
       "    }\n",
       "\n",
       "    .dataframe thead th {\n",
       "        text-align: right;\n",
       "    }\n",
       "</style>\n",
       "<table border=\"1\" class=\"dataframe\">\n",
       "  <thead>\n",
       "    <tr style=\"text-align: right;\">\n",
       "      <th></th>\n",
       "      <th>entityId</th>\n",
       "      <th>agency</th>\n",
       "      <th>recordingTechnique</th>\n",
       "      <th>project</th>\n",
       "      <th>roll</th>\n",
       "      <th>frame</th>\n",
       "      <th>acquisitionDate</th>\n",
       "      <th>hi_res_available</th>\n",
       "      <th>imageType</th>\n",
       "      <th>quality</th>\n",
       "      <th>...</th>\n",
       "      <th>centerLat</th>\n",
       "      <th>centerLon</th>\n",
       "      <th>NWlat</th>\n",
       "      <th>NWlon</th>\n",
       "      <th>NElat</th>\n",
       "      <th>NElon</th>\n",
       "      <th>SElat</th>\n",
       "      <th>SElon</th>\n",
       "      <th>SWlat</th>\n",
       "      <th>SWlon</th>\n",
       "    </tr>\n",
       "  </thead>\n",
       "  <tbody>\n",
       "    <tr>\n",
       "      <th>0</th>\n",
       "      <td>AR1VBON00010027</td>\n",
       "      <td>1</td>\n",
       "      <td>1</td>\n",
       "      <td>VBON0</td>\n",
       "      <td>000001</td>\n",
       "      <td>27</td>\n",
       "      <td>1966/09/05</td>\n",
       "      <td>Y</td>\n",
       "      <td>24</td>\n",
       "      <td>8</td>\n",
       "      <td>...</td>\n",
       "      <td>48.986480</td>\n",
       "      <td>-112.956266</td>\n",
       "      <td>49.017686</td>\n",
       "      <td>-113.003002</td>\n",
       "      <td>49.017240</td>\n",
       "      <td>-112.908850</td>\n",
       "      <td>48.955312</td>\n",
       "      <td>-112.909587</td>\n",
       "      <td>48.955759</td>\n",
       "      <td>-113.003622</td>\n",
       "    </tr>\n",
       "    <tr>\n",
       "      <th>1</th>\n",
       "      <td>AR1VBON00010028</td>\n",
       "      <td>1</td>\n",
       "      <td>1</td>\n",
       "      <td>VBON0</td>\n",
       "      <td>000001</td>\n",
       "      <td>28</td>\n",
       "      <td>1966/09/05</td>\n",
       "      <td>Y</td>\n",
       "      <td>24</td>\n",
       "      <td>8</td>\n",
       "      <td>...</td>\n",
       "      <td>48.984662</td>\n",
       "      <td>-112.995651</td>\n",
       "      <td>49.016520</td>\n",
       "      <td>-113.041357</td>\n",
       "      <td>49.014745</td>\n",
       "      <td>-112.947245</td>\n",
       "      <td>48.952842</td>\n",
       "      <td>-112.950001</td>\n",
       "      <td>48.954617</td>\n",
       "      <td>-113.043996</td>\n",
       "    </tr>\n",
       "    <tr>\n",
       "      <th>2</th>\n",
       "      <td>AR1VBON00010029</td>\n",
       "      <td>1</td>\n",
       "      <td>1</td>\n",
       "      <td>VBON0</td>\n",
       "      <td>000001</td>\n",
       "      <td>29</td>\n",
       "      <td>1966/09/05</td>\n",
       "      <td>Y</td>\n",
       "      <td>24</td>\n",
       "      <td>8</td>\n",
       "      <td>...</td>\n",
       "      <td>48.986097</td>\n",
       "      <td>-113.036146</td>\n",
       "      <td>49.017937</td>\n",
       "      <td>-113.081881</td>\n",
       "      <td>49.016197</td>\n",
       "      <td>-112.987766</td>\n",
       "      <td>48.954295</td>\n",
       "      <td>-112.990467</td>\n",
       "      <td>48.956034</td>\n",
       "      <td>-113.084465</td>\n",
       "    </tr>\n",
       "    <tr>\n",
       "      <th>3</th>\n",
       "      <td>AR1VBON00010030</td>\n",
       "      <td>1</td>\n",
       "      <td>1</td>\n",
       "      <td>VBON0</td>\n",
       "      <td>000001</td>\n",
       "      <td>30</td>\n",
       "      <td>1966/09/05</td>\n",
       "      <td>Y</td>\n",
       "      <td>24</td>\n",
       "      <td>8</td>\n",
       "      <td>...</td>\n",
       "      <td>48.985107</td>\n",
       "      <td>-113.074685</td>\n",
       "      <td>49.017343</td>\n",
       "      <td>-113.119772</td>\n",
       "      <td>49.014782</td>\n",
       "      <td>-113.025703</td>\n",
       "      <td>48.952909</td>\n",
       "      <td>-113.029652</td>\n",
       "      <td>48.955469</td>\n",
       "      <td>-113.123604</td>\n",
       "    </tr>\n",
       "    <tr>\n",
       "      <th>4</th>\n",
       "      <td>AR1VBON00010031</td>\n",
       "      <td>1</td>\n",
       "      <td>1</td>\n",
       "      <td>VBON0</td>\n",
       "      <td>000001</td>\n",
       "      <td>31</td>\n",
       "      <td>1966/09/05</td>\n",
       "      <td>Y</td>\n",
       "      <td>24</td>\n",
       "      <td>8</td>\n",
       "      <td>...</td>\n",
       "      <td>48.983918</td>\n",
       "      <td>-113.114624</td>\n",
       "      <td>49.016206</td>\n",
       "      <td>-113.159625</td>\n",
       "      <td>49.013537</td>\n",
       "      <td>-113.065566</td>\n",
       "      <td>48.951670</td>\n",
       "      <td>-113.069678</td>\n",
       "      <td>48.954337</td>\n",
       "      <td>-113.163620</td>\n",
       "    </tr>\n",
       "  </tbody>\n",
       "</table>\n",
       "<p>5 rows × 23 columns</p>\n",
       "</div>"
      ],
      "text/plain": [
       "          entityId agency recordingTechnique project    roll frame  \\\n",
       "0  AR1VBON00010027      1                  1   VBON0  000001    27   \n",
       "1  AR1VBON00010028      1                  1   VBON0  000001    28   \n",
       "2  AR1VBON00010029      1                  1   VBON0  000001    29   \n",
       "3  AR1VBON00010030      1                  1   VBON0  000001    30   \n",
       "4  AR1VBON00010031      1                  1   VBON0  000001    31   \n",
       "\n",
       "  acquisitionDate hi_res_available imageType quality  ...  centerLat  \\\n",
       "0      1966/09/05                Y        24       8  ...  48.986480   \n",
       "1      1966/09/05                Y        24       8  ...  48.984662   \n",
       "2      1966/09/05                Y        24       8  ...  48.986097   \n",
       "3      1966/09/05                Y        24       8  ...  48.985107   \n",
       "4      1966/09/05                Y        24       8  ...  48.983918   \n",
       "\n",
       "    centerLon      NWlat       NWlon      NElat       NElon      SElat  \\\n",
       "0 -112.956266  49.017686 -113.003002  49.017240 -112.908850  48.955312   \n",
       "1 -112.995651  49.016520 -113.041357  49.014745 -112.947245  48.952842   \n",
       "2 -113.036146  49.017937 -113.081881  49.016197 -112.987766  48.954295   \n",
       "3 -113.074685  49.017343 -113.119772  49.014782 -113.025703  48.952909   \n",
       "4 -113.114624  49.016206 -113.159625  49.013537 -113.065566  48.951670   \n",
       "\n",
       "        SElon      SWlat       SWlon  \n",
       "0 -112.909587  48.955759 -113.003622  \n",
       "1 -112.950001  48.954617 -113.043996  \n",
       "2 -112.990467  48.956034 -113.084465  \n",
       "3 -113.029652  48.955469 -113.123604  \n",
       "4 -113.069678  48.954337 -113.163620  \n",
       "\n",
       "[5 rows x 23 columns]"
      ]
     },
     "execution_count": 13,
     "metadata": {},
     "output_type": "execute_result"
    }
   ],
   "source": [
    "df.head()"
   ]
  },
  {
   "cell_type": "markdown",
   "metadata": {},
   "source": [
    "## Data download"
   ]
  },
  {
   "cell_type": "code",
   "execution_count": 14,
   "metadata": {},
   "outputs": [],
   "source": [
    "entityIds = list(df['entityId'].values)"
   ]
  },
  {
   "cell_type": "code",
   "execution_count": 16,
   "metadata": {},
   "outputs": [
    {
     "name": "stdout",
     "output_type": "stream",
     "text": [
      "DOWNLOAD: https://dds.cr.usgs.gov/download/eyJpZCI6MTA0MjY1MzY3LCJjb250YWN0SWQiOjI0NTU2MjI4fQ==\n",
      "NAME: AR1VBON00010027\n",
      "DOWNLOAD: https://dds.cr.usgs.gov/download/eyJpZCI6MTA0MjY1MzQwLCJjb250YWN0SWQiOjI0NTU2MjI4fQ==\n",
      "NAME: AR1VBON00010036\n",
      "DOWNLOAD: https://dds.cr.usgs.gov/download/eyJpZCI6MTAzOTY3ODQ4LCJjb250YWN0SWQiOjI0NTU2MjI4fQ==\n",
      "NAME: LE70450332005243EDC00\n",
      "DOWNLOAD: https://dds.cr.usgs.gov/download/eyJpZCI6MTAzOTY3ODU0LCJjb250YWN0SWQiOjI0NTU2MjI4fQ==\n",
      "NAME: LE70450322005243EDC00\n",
      "DOWNLOAD: https://dds.cr.usgs.gov/download/eyJpZCI6MTAzOTY3ODUxLCJjb250YWN0SWQiOjI0NTU2MjI4fQ==\n",
      "NAME: LE70450322005243EDC00\n",
      "DOWNLOAD: https://dds.cr.usgs.gov/download/eyJpZCI6MTAzOTY4NzM1LCJjb250YWN0SWQiOjI0NTU2MjI4fQ==\n",
      "NAME: AR1LK0000010080\n",
      "DOWNLOAD: https://dds.cr.usgs.gov/download/eyJpZCI6MTA0MjY1MzU4LCJjb250YWN0SWQiOjI0NTU2MjI4fQ==\n",
      "NAME: AR1VBON00010030\n",
      "DOWNLOAD: https://dds.cr.usgs.gov/download/eyJpZCI6MTAzOTY3ODUzLCJjb250YWN0SWQiOjI0NTU2MjI4fQ==\n",
      "NAME: LE70450322005243EDC00\n",
      "DOWNLOAD: https://dds.cr.usgs.gov/download/eyJpZCI6MTA0MjY1MzQ5LCJjb250YWN0SWQiOjI0NTU2MjI4fQ==\n",
      "NAME: AR1VBON00010033\n",
      "DOWNLOAD: https://dds.cr.usgs.gov/download/eyJpZCI6MTAzOTY4NzMyLCJjb250YWN0SWQiOjI0NTU2MjI4fQ==\n",
      "NAME: AR1LK0000010081\n",
      "DOWNLOAD: https://dds.cr.usgs.gov/download/eyJpZCI6MTA0MjY1MzY0LCJjb250YWN0SWQiOjI0NTU2MjI4fQ==\n",
      "NAME: AR1VBON00010028\n",
      "DOWNLOAD: https://dds.cr.usgs.gov/download/eyJpZCI6MTAzOTY3ODUwLCJjb250YWN0SWQiOjI0NTU2MjI4fQ==\n",
      "NAME: LE70450332005243EDC00\n",
      "DOWNLOAD: https://dds.cr.usgs.gov/download/eyJpZCI6MTAzOTY3ODUyLCJjb250YWN0SWQiOjI0NTU2MjI4fQ==\n",
      "NAME: LE70450322005243EDC00\n",
      "DOWNLOAD: https://dds.cr.usgs.gov/download/eyJpZCI6MTA0MjY1MzYxLCJjb250YWN0SWQiOjI0NTU2MjI4fQ==\n",
      "NAME: AR1VBON00010029\n",
      "DOWNLOAD: https://dds.cr.usgs.gov/download/eyJpZCI6MTAzOTY3ODQ3LCJjb250YWN0SWQiOjI0NTU2MjI4fQ==\n",
      "NAME: LE70450332005243EDC00\n",
      "DOWNLOAD: https://dds.cr.usgs.gov/download/eyJpZCI6MTAzOTgwODYzLCJjb250YWN0SWQiOjI0NTU2MjI4fQ==\n",
      "NAME: AR1LK0000010027\n",
      "DOWNLOAD: https://dds.cr.usgs.gov/download/eyJpZCI6MTA0MjY1MzQzLCJjb250YWN0SWQiOjI0NTU2MjI4fQ==\n",
      "NAME: AR1VBON00010035\n",
      "DOWNLOAD: https://dds.cr.usgs.gov/download/eyJpZCI6MTAzOTY3ODQ5LCJjb250YWN0SWQiOjI0NTU2MjI4fQ==\n",
      "NAME: LE70450332005243EDC00\n",
      "DOWNLOAD: https://dds.cr.usgs.gov/download/eyJpZCI6MTA0MjY1MzUyLCJjb250YWN0SWQiOjI0NTU2MjI4fQ==\n",
      "NAME: AR1VBON00010032\n",
      "DOWNLOAD: https://dds.cr.usgs.gov/download/eyJpZCI6MTA0MjY1MzU1LCJjb250YWN0SWQiOjI0NTU2MjI4fQ==\n",
      "NAME: AR1VBON00010031\n",
      "\n",
      " 10 downloads are not available. Waiting for 30 seconds.\n",
      "\n",
      "Trying to retrieve data\n",
      "\n",
      "DOWNLOAD: https://dds.cr.usgs.gov/download/eyJpZCI6MTA0MjY1MzQ1LCJjb250YWN0SWQiOjI0NTU2MjI4fQ==\n",
      "NAME: AR1VBON00010034\n",
      "DOWNLOAD: https://dds.cr.usgs.gov/download/eyJpZCI6MTA0MjY1MzQ4LCJjb250YWN0SWQiOjI0NTU2MjI4fQ==\n",
      "NAME: AR1VBON00010033\n",
      "DOWNLOAD: https://dds.cr.usgs.gov/download/eyJpZCI6MTA0MjY1MzYzLCJjb250YWN0SWQiOjI0NTU2MjI4fQ==\n",
      "NAME: AR1VBON00010028\n",
      "DOWNLOAD: https://dds.cr.usgs.gov/download/eyJpZCI6MTA0MjY1MzQyLCJjb250YWN0SWQiOjI0NTU2MjI4fQ==\n",
      "NAME: AR1VBON00010035\n",
      "DOWNLOAD: https://dds.cr.usgs.gov/download/eyJpZCI6MTA0MjY1MzQ2LCJjb250YWN0SWQiOjI0NTU2MjI4fQ==\n",
      "NAME: AR1VBON00010034\n",
      "DOWNLOAD: https://dds.cr.usgs.gov/download/eyJpZCI6MTA0MjY1MzU3LCJjb250YWN0SWQiOjI0NTU2MjI4fQ==\n",
      "NAME: AR1VBON00010030\n",
      "DOWNLOAD: https://dds.cr.usgs.gov/download/eyJpZCI6MTA0MjY1MzUxLCJjb250YWN0SWQiOjI0NTU2MjI4fQ==\n",
      "NAME: AR1VBON00010032\n",
      "DOWNLOAD: https://dds.cr.usgs.gov/download/eyJpZCI6MTA0MjY1MzM5LCJjb250YWN0SWQiOjI0NTU2MjI4fQ==\n",
      "NAME: AR1VBON00010036\n",
      "\n",
      " 2 downloads are not available. Waiting for 30 seconds.\n",
      "\n",
      "Trying to retrieve data\n",
      "\n",
      "DOWNLOAD: https://dds.cr.usgs.gov/download/eyJpZCI6MTA0MjY1MzYwLCJjb250YWN0SWQiOjI0NTU2MjI4fQ==\n",
      "NAME: AR1VBON00010029\n",
      "DOWNLOAD: https://dds.cr.usgs.gov/download/eyJpZCI6MTA0MjY1MzY2LCJjb250YWN0SWQiOjI0NTU2MjI4fQ==\n",
      "NAME: AR1VBON00010027\n",
      "DOWNLOAD: https://dds.cr.usgs.gov/download/eyJpZCI6MTA0MjY1MzU0LCJjb250YWN0SWQiOjI0NTU2MjI4fQ==\n",
      "NAME: AR1VBON00010031\n",
      "\n",
      "All downloads are available to download.\n",
      "\n",
      "Download complete for: input_data/AR1VBON00010030.pdf\n",
      "Download complete for: input_data/AR1VBON00010028.pdf\n",
      "Download complete for: input_data/AR1VBON00010027.pdf\n",
      "Download complete for: input_data/AR1VBON00010033.pdf\n",
      "Download complete for: input_data/AR1VBON00010036.pdf\n",
      "Download complete for: input_data/AR1VBON00010035.pdf\n",
      "Download complete for: input_data/AR1VBON00010029.pdf\n",
      "Download complete for: input_data/AR1VBON00010031.pdf\n",
      "Download complete for: input_data/AR1VBON00010032.pdf\n",
      "Download complete for: input_data/AR1VBON00010034.pdf\n",
      "Download complete for: input_data/AR1VBON00010033.tif.gz\n",
      "Download complete for: input_data/AR1VBON00010035.tif.gz\n",
      "Download complete for: input_data/AR1VBON00010030.tif.gz\n",
      "Download complete for: input_data/AR1VBON00010032.tif.gz\n",
      "Download complete for: input_data/AR1VBON00010034.tif.gz\n",
      "Download complete for: input_data/AR1VBON00010028.tif.gz\n",
      "Download complete for: input_data/AR1VBON00010029.tif.gz\n",
      "Download complete for: input_data/AR1VBON00010036.tif.gz\n",
      "Download complete for: input_data/AR1VBON00010031.tif.gz\n",
      "Download complete for: input_data/AR1VBON00010027.tif.gz\n",
      "gunzipping files in input_data\n",
      "Images in: input_data/raw_images\n",
      "Calibration reports in: input_data/calibration_reports\n"
     ]
    },
    {
     "data": {
      "text/plain": [
       "('input_data/raw_images', 'input_data/calibration_reports')"
      ]
     },
     "execution_count": 16,
     "metadata": {},
     "output_type": "execute_result"
    }
   ],
   "source": [
    "hipp.dataquery.EE_download_images_to_disk(apiKey,\n",
    "                                 entityIds,\n",
    "                                 output_directory = 'input_data')"
   ]
  }
 ],
 "metadata": {
  "kernelspec": {
   "display_name": "Python 3",
   "language": "python",
   "name": "python3"
  },
  "language_info": {
   "codemirror_mode": {
    "name": "ipython",
    "version": 3
   },
   "file_extension": ".py",
   "mimetype": "text/x-python",
   "name": "python",
   "nbconvert_exporter": "python",
   "pygments_lexer": "ipython3",
   "version": "3.9.7"
  }
 },
 "nbformat": 4,
 "nbformat_minor": 4
}
