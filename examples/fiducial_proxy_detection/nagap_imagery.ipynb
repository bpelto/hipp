{
 "cells": [
  {
   "cell_type": "code",
   "execution_count": null,
   "metadata": {},
   "outputs": [],
   "source": [
    "%load_ext autoreload\n",
    "%autoreload 2"
   ]
  },
  {
   "cell_type": "code",
   "execution_count": null,
   "metadata": {},
   "outputs": [],
   "source": [
    "import hipp"
   ]
  },
  {
   "cell_type": "markdown",
   "metadata": {},
   "source": [
    "### Download NAGAP imagery\n",
    "- The nagap_image_metadata.csv file has been compiled from NAGAP metadata files available at www.arcticdata.io. \n",
    "- The file contains all images for which a pid_tiff (tif image) ID is available in the metadata. \n",
    "- Some images do not have lat lon positional information, but are still included in the csv. \n",
    "- Setting lat lon bounds in the function below will remove those values, while only specifying a year, for example, will return them in the dataframe (if desired).\n",
    "- Specify target bounds as (ULLON, ULLAT, LRLON, LRLAT)\n",
    "- Specify target year as 77, e.g. for year 1977\n",
    "\n",
    "In this example we specify bounds to examine Easton Glacier at Mt Baker, WA for images taken in 1977."
   ]
  },
  {
   "cell_type": "code",
   "execution_count": null,
   "metadata": {},
   "outputs": [],
   "source": [
    "nagap_metadata_csv = 'input_data/nagap_image_metadata.csv'"
   ]
  },
  {
   "cell_type": "code",
   "execution_count": null,
   "metadata": {},
   "outputs": [],
   "source": [
    "bounds= (-121.846, 48.76, -121.823, 48.70) # approximate bounds for Easton glacier\n",
    "year = 77"
   ]
  },
  {
   "cell_type": "code",
   "execution_count": null,
   "metadata": {},
   "outputs": [],
   "source": [
    "df = hipp.dataquery.NAGAP_pre_select_images(nagap_metadata_csv,\n",
    "                                            bounds = bounds,\n",
    "                                            year = year)"
   ]
  },
  {
   "cell_type": "code",
   "execution_count": null,
   "metadata": {},
   "outputs": [],
   "source": [
    "df"
   ]
  },
  {
   "cell_type": "code",
   "execution_count": null,
   "metadata": {},
   "outputs": [],
   "source": [
    "image_directory = hipp.dataquery.NAGAP_download_images_to_disk(df)"
   ]
  },
  {
   "cell_type": "markdown",
   "metadata": {},
   "source": [
    "### Create midside fiducial proxy templates\n",
    "- Choose an example image from the downloaded set.\n",
    "- `hipp.core.create_midside_fiducial_proxies_template()` will launch a browser window to interactively select the fiducial marker proxies. \n",
    "- Select inner most point (towards image center) to crop from ,for midside fiducial marker proxies, in order from Left - Top - Right - Bottom.\n",
    "- These templates already exist, so this step is optional here. Comment in to try it out."
   ]
  },
  {
   "cell_type": "code",
   "execution_count": null,
   "metadata": {},
   "outputs": [],
   "source": [
    "image_directory = 'input_data/raw_images'\n",
    "image_file = 'input_data/raw_images/NAGAP_77V6_062.tif'"
   ]
  },
  {
   "cell_type": "code",
   "execution_count": null,
   "metadata": {},
   "outputs": [],
   "source": [
    "# hipp.core.create_midside_fiducial_proxies_template(image_file,\n",
    "#                                                  output_directory = 'input_data/fiducials/nagap/notch')"
   ]
  },
  {
   "cell_type": "markdown",
   "metadata": {},
   "source": [
    "### Detect principal points and crop images"
   ]
  },
  {
   "cell_type": "code",
   "execution_count": null,
   "metadata": {},
   "outputs": [],
   "source": [
    "image_directory = 'input_data/raw_images'\n",
    "template_directory = 'input_data/fiducials/nagap/notch'"
   ]
  },
  {
   "cell_type": "code",
   "execution_count": null,
   "metadata": {},
   "outputs": [],
   "source": [
    "hipp.batch.preprocess_with_fiducial_proxies(image_directory,\n",
    "                                            template_directory)"
   ]
  }
 ],
 "metadata": {
  "kernelspec": {
   "display_name": "Python 3",
   "language": "python",
   "name": "python3"
  },
  "language_info": {
   "codemirror_mode": {
    "name": "ipython",
    "version": 3
   },
   "file_extension": ".py",
   "mimetype": "text/x-python",
   "name": "python",
   "nbconvert_exporter": "python",
   "pygments_lexer": "ipython3",
   "version": "3.7.6"
  }
 },
 "nbformat": 4,
 "nbformat_minor": 4
}
